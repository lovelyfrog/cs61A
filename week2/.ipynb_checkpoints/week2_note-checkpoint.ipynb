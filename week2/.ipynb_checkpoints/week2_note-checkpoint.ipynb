{
 "cells": [
  {
   "cell_type": "markdown",
   "metadata": {},
   "source": [
    "## short-circuit"
   ]
  },
  {
   "cell_type": "markdown",
   "metadata": {},
   "source": [
    "short-circuit happens when the operator reaches an operand that allows them to make an conclusion about the expression. For example, `and` will short-circuit as soon as it reaches the first false value because it then knows that not all the values are true."
   ]
  },
  {
   "cell_type": "code",
   "execution_count": 2,
   "metadata": {},
   "outputs": [
    {
     "ename": "ZeroDivisionError",
     "evalue": "division by zero",
     "output_type": "error",
     "traceback": [
      "\u001b[0;31m---------------------------------------------------------------------------\u001b[0m",
      "\u001b[0;31mZeroDivisionError\u001b[0m                         Traceback (most recent call last)",
      "\u001b[0;32m<ipython-input-2-9e1622b385b6>\u001b[0m in \u001b[0;36m<module>\u001b[0;34m()\u001b[0m\n\u001b[0;32m----> 1\u001b[0;31m \u001b[0;36m1\u001b[0m\u001b[0;34m/\u001b[0m\u001b[0;36m0\u001b[0m\u001b[0;34m\u001b[0m\u001b[0m\n\u001b[0m",
      "\u001b[0;31mZeroDivisionError\u001b[0m: division by zero"
     ]
    }
   ],
   "source": [
    "1/0"
   ]
  },
  {
   "cell_type": "code",
   "execution_count": 1,
   "metadata": {},
   "outputs": [
    {
     "data": {
      "text/plain": [
       "True"
      ]
     },
     "execution_count": 1,
     "metadata": {},
     "output_type": "execute_result"
    }
   ],
   "source": [
    "True or 1/0"
   ]
  },
  {
   "cell_type": "code",
   "execution_count": 3,
   "metadata": {},
   "outputs": [
    {
     "data": {
      "text/plain": [
       "13"
      ]
     },
     "execution_count": 3,
     "metadata": {},
     "output_type": "execute_result"
    }
   ],
   "source": [
    "True and 13"
   ]
  },
  {
   "cell_type": "code",
   "execution_count": 8,
   "metadata": {},
   "outputs": [
    {
     "data": {
      "text/plain": [
       "0"
      ]
     },
     "execution_count": 8,
     "metadata": {},
     "output_type": "execute_result"
    }
   ],
   "source": [
    "10 % 10"
   ]
  },
  {
   "cell_type": "code",
   "execution_count": 9,
   "metadata": {},
   "outputs": [
    {
     "data": {
      "text/plain": [
       "1.0"
      ]
     },
     "execution_count": 9,
     "metadata": {},
     "output_type": "execute_result"
    }
   ],
   "source": [
    "10 / 10"
   ]
  },
  {
   "cell_type": "code",
   "execution_count": 10,
   "metadata": {},
   "outputs": [
    {
     "name": "stdout",
     "output_type": "stream",
     "text": [
      "i know the number2\n"
     ]
    }
   ],
   "source": [
    "yes_no = input('i know the number')"
   ]
  },
  {
   "cell_type": "code",
   "execution_count": 12,
   "metadata": {},
   "outputs": [
    {
     "data": {
      "text/plain": [
       "'2'"
      ]
     },
     "execution_count": 12,
     "metadata": {},
     "output_type": "execute_result"
    }
   ],
   "source": [
    "yes_no.strip()"
   ]
  },
  {
   "cell_type": "markdown",
   "metadata": {},
   "source": [
    "## Testing"
   ]
  },
  {
   "cell_type": "code",
   "execution_count": 1,
   "metadata": {},
   "outputs": [],
   "source": [
    "def fib(n):\n",
    "    '''\n",
    "    计算 fibonacci 数 n>=2\n",
    "    '''\n",
    "    pred, curr = 0, 1 #fib 数列第一个数和第二个数\n",
    "    k = 2\n",
    "    while k < n:\n",
    "        pred, curr = curr, pred + curr\n",
    "        k = k + 1\n",
    "    return curr"
   ]
  },
  {
   "cell_type": "markdown",
   "metadata": {},
   "source": [
    "**Assertions**:  \n",
    "使用 `assert` statements 来对比期望值，比如测试的函数的输出"
   ]
  },
  {
   "cell_type": "code",
   "execution_count": 9,
   "metadata": {},
   "outputs": [],
   "source": [
    "assert fib(8) == 13, 'The 8th Fibonacci number should be 13'"
   ]
  },
  {
   "cell_type": "markdown",
   "metadata": {},
   "source": [
    "**Doctests**  \n",
    "python 提供了一个很便利的方法——可以在函数的 docstring 中放置简单的测试。docstring 第一行应当包含这个函数的描述，然后紧跟着是一个空行，接下来可能有详细的参数和函数行为的描述，除此之外还可能包含一些调用函数的样例"
   ]
  },
  {
   "cell_type": "code",
   "execution_count": 18,
   "metadata": {},
   "outputs": [],
   "source": [
    "def sum_naturals(n):\n",
    "    '''return sum of the first n natural numbers.\n",
    "    \n",
    "    >>> sum_naturals(10)\n",
    "    55\n",
    "    >>> sum_naturals(100)\n",
    "    5050\n",
    "    '''\n",
    "    total, k = 0, 1\n",
    "    while k <= n:\n",
    "        total += k\n",
    "        k += 1\n",
    "    return total"
   ]
  },
  {
   "cell_type": "markdown",
   "metadata": {},
   "source": [
    "我们可以使用 `doctest` 模块来做测试，`globals` 函数返回全局环境的一个表示，解释器需要它来评估 expressions. `run_docstring_examples` 函数，它的第一个参数是需要测试的函数，第二个参数是 expression `globals()` 返回的结果，第三个参数是 True 来表示我们想要 verbose 输出：就是一个所有测试运行的记录"
   ]
  },
  {
   "cell_type": "code",
   "execution_count": 19,
   "metadata": {},
   "outputs": [
    {
     "name": "stdout",
     "output_type": "stream",
     "text": [
      "Finding tests in NoName\n",
      "Trying:\n",
      "    sum_naturals(10)\n",
      "Expecting:\n",
      "    55\n",
      "ok\n",
      "Trying:\n",
      "    sum_naturals(100)\n",
      "Expecting:\n",
      "    5050\n",
      "ok\n"
     ]
    }
   ],
   "source": [
    "from doctest import run_docstring_examples\n",
    "run_docstring_examples(sum_naturals, globals(), True)"
   ]
  },
  {
   "cell_type": "markdown",
   "metadata": {},
   "source": [
    "## A Guide to designing Function"
   ]
  },
  {
   "cell_type": "markdown",
   "metadata": {},
   "source": [
    "* 给每个函数一个准确的工作\n",
    "* 不要重复自己，实现一个过程只一次但是运行它很多次\n",
    "* 定义一个通用函数"
   ]
  },
  {
   "cell_type": "markdown",
   "metadata": {},
   "source": [
    "## Higher-Order Functions"
   ]
  },
  {
   "cell_type": "markdown",
   "metadata": {},
   "source": [
    "### **Functions as Arguments**"
   ]
  },
  {
   "cell_type": "code",
   "execution_count": 21,
   "metadata": {},
   "outputs": [],
   "source": [
    "def summation(n, term):\n",
    "    total, k = 0, 1\n",
    "    while k <= n:\n",
    "        total, k = total + term(k), k + 1\n",
    "    return total\n",
    "\n",
    "def cube(x):\n",
    "    return x**3\n",
    "\n",
    "def pi_term(x):\n",
    "    return 8 / ((4*x-3) * (4*x-1))"
   ]
  },
  {
   "cell_type": "code",
   "execution_count": 24,
   "metadata": {},
   "outputs": [
    {
     "data": {
      "text/plain": [
       "3.1415676535897927"
      ]
     },
     "execution_count": 24,
     "metadata": {},
     "output_type": "execute_result"
    }
   ],
   "source": [
    "summation(20000, pi_term)"
   ]
  },
  {
   "cell_type": "markdown",
   "metadata": {},
   "source": [
    "### **Functions as General Methods**"
   ]
  },
  {
   "cell_type": "markdown",
   "metadata": {},
   "source": [
    "考虑下面为了迭代更新而实现一个 general method，并用它来计算黄金分割比。一个迭代更新算法初始化一个 `guess` 作为等式的解，它不断的应用 `update` 函数来更新 `guess`，并应用 `close` 的比较来判别是否当前的 `guess` 足够接近正确的值。"
   ]
  },
  {
   "cell_type": "code",
   "execution_count": 25,
   "metadata": {},
   "outputs": [],
   "source": [
    "def improve(update, close, guess=1):\n",
    "    while not close(guess):\n",
    "        guess = update(guess)\n",
    "    return guess"
   ]
  },
  {
   "cell_type": "markdown",
   "metadata": {},
   "source": [
    "这个函数不表明解决什么样的问题：细节被丢给了作为 arguments 传入的 `update` 和 `close` 函数"
   ]
  },
  {
   "cell_type": "markdown",
   "metadata": {},
   "source": [
    "我们下面定义的迭代黄金分割比的 `golden_update` 和 `square_close_to_successor` 函数"
   ]
  },
  {
   "cell_type": "code",
   "execution_count": 26,
   "metadata": {},
   "outputs": [],
   "source": [
    "def golden_update(guess):\n",
    "    return 1/guess + 1\n",
    "\n",
    "def square_close_to_successor(guess):\n",
    "    return approx_eq(guess*guess, guess+1)\n",
    "\n",
    "def approx_eq(x, y, tolerance=1e-15):\n",
    "    return abs(x - y) < tolerance"
   ]
  },
  {
   "cell_type": "code",
   "execution_count": 27,
   "metadata": {},
   "outputs": [
    {
     "data": {
      "text/plain": [
       "1.6180339887498951"
      ]
     },
     "execution_count": 27,
     "metadata": {},
     "output_type": "execute_result"
    }
   ],
   "source": [
    "improve(golden_update, square_close_to_successor)"
   ]
  },
  {
   "cell_type": "markdown",
   "metadata": {},
   "source": [
    "由此可见，命名和函数让我们抽象了巨大的复杂性，每个函数的定义可能是很简单琐碎的，但是整个计算过程确是很复杂，我们通过将小的部件组合形成复杂的过程"
   ]
  },
  {
   "cell_type": "markdown",
   "metadata": {},
   "source": [
    "### **Nested Definitions** "
   ]
  },
  {
   "cell_type": "markdown",
   "metadata": {},
   "source": [
    "上面我们介绍了可以在函数中传入函数，这样增加了我们的编程语言的表现力，然而里面有一个问题是 `update` 之于 `improve` 函数只能有一个参数，**nested function** 可以帮我们解决这个问题，但是需要丰富我们的 environment model"
   ]
  },
  {
   "cell_type": "markdown",
   "metadata": {},
   "source": [
    "让我们考虑一个新的问题：求一个数的平方根。下面我们想要求 a 的平方根，不断重复下面的更新会收敛到 \\\\(\\sqrt a\\\\)"
   ]
  },
  {
   "cell_type": "code",
   "execution_count": 28,
   "metadata": {},
   "outputs": [],
   "source": [
    "def average(x, y):\n",
    "    return (x + y)/2\n",
    "\n",
    "def sqrt_update(x, a):\n",
    "    return average(x, a/x)"
   ]
  },
  {
   "cell_type": "markdown",
   "metadata": {},
   "source": [
    "上面具有两个 argument 的更新函数与 `improve` 函数是不相符合的，解决方法是放置函数定义在其他定义中"
   ]
  },
  {
   "cell_type": "code",
   "execution_count": 29,
   "metadata": {},
   "outputs": [],
   "source": [
    "def sqrt(a):\n",
    "    def sqrt_update(x):\n",
    "        return average(x, a/x)\n",
    "    def sqrt_close(x):\n",
    "        return approx_eq(x*x, a)\n",
    "    return improve(sqrt_update, sqrt_close)"
   ]
  },
  {
   "cell_type": "markdown",
   "metadata": {},
   "source": [
    "**Lexical scope(词法范围)**：nested functions 可以访问环境中它们定义时的 names（这里感觉翻译为变量比较好，比如这里的 a）"
   ]
  },
  {
   "cell_type": "markdown",
   "metadata": {},
   "source": [
    "我们定义对 environment model 的两个拓展来了解 lexical scoping:\n",
    "* 每个用户定义的函数都有一个 parent environment，函数都是在其中被定义的\n",
    "* 当一个用户定义的函数被调用时，它的 local frame 就会拓展到 parent environment"
   ]
  },
  {
   "cell_type": "markdown",
   "metadata": {},
   "source": [
    "在调用 `sqrt(256)` 时，environment 先为 `sqrt` 增加一个 local frame，然后评估 `sqrt_update` 和 `sqrt_close` 的 def statements "
   ]
  },
  {
   "cell_type": "markdown",
   "metadata": {},
   "source": [
    "![image](1.jpg)"
   ]
  },
  {
   "cell_type": "markdown",
   "metadata": {},
   "source": [
    "注意当调用用户定义的函数时，产生的 local frame 和 这个函数具有相同的 parent"
   ]
  },
  {
   "cell_type": "markdown",
   "metadata": {},
   "source": [
    "我们可以看到下面的 f5 frame 中，只包含了 x，但是它的 parent frame f1 仍然包含 a "
   ]
  },
  {
   "cell_type": "markdown",
   "metadata": {},
   "source": [
    "![image](2.jpg)"
   ]
  },
  {
   "cell_type": "markdown",
   "metadata": {},
   "source": [
    "python 首先看 `sqrt_update` frame 中 —— 没有 a 存在，然后看它的 parent frame f1, 发现了 a 的 binding 值 256. `sqrt_update` 函数携带了一些数据: a 的值（当它被定义的时候），因为它 \"enclose\" 信息，所以 locally defined functions 通常被叫做 *closures(闭包)*"
   ]
  },
  {
   "cell_type": "code",
   "execution_count": 32,
   "metadata": {},
   "outputs": [],
   "source": [
    "def square(x):\n",
    "    return x*x\n",
    "\n",
    "def so_slow(num):\n",
    "    x = num\n",
    "    while x > 0:\n",
    "        x = x + 1\n",
    "    return x / 0"
   ]
  },
  {
   "cell_type": "code",
   "execution_count": 8,
   "metadata": {},
   "outputs": [],
   "source": [
    "def announce_highest(who, previous_high=0, previous_score=0):\n",
    "    \"\"\"Return a commentary function that announces when WHO's score\n",
    "    increases by more than ever before in the game.\n",
    "\n",
    "    >>> f0 = announce_highest(1) # Only announce Player 1 score gains\n",
    "    >>> f1 = f0(11, 0)\n",
    "    >>> f2 = f1(11, 1)\n",
    "    1 point! That's the biggest gain yet for Player 1\n",
    "    >>> f3 = f2(20, 1)\n",
    "    >>> f4 = f3(5, 20) # Player 1 gets 4 points, then Swine Swap applies\n",
    "    19 points! That's the biggest gain yet for Player 1\n",
    "    >>> f5 = f4(20, 40) # Player 0 gets 35 points, then Swine Swap applies\n",
    "    20 points! That's the biggest gain yet for Player 1\n",
    "    >>> f6 = f5(20, 55) # Player 1 gets 15 points; not enough for a new high\n",
    "    \"\"\"\n",
    "    assert who == 0 or who == 1, 'The who argument should indicate a player.'\n",
    "    # BEGIN PROBLEM 7\n",
    "    def say(score0, score1):\n",
    "        print(previous_high)\n",
    "        if who == 0:\n",
    "            score = score0\n",
    "        else:\n",
    "            score = score1\n",
    "        diff = score - previous_high\n",
    "        if diff > previous_high and diff == 1:\n",
    "            print(\"1 point! That's the biggest gain yet for Player\", who)\n",
    "            previous_high = diff\n",
    "        elif diff > previous_high:\n",
    "            print(\"%d points! That's the biggest gain yet for Player %d\" %(diff, who))\n",
    "            previous_high = diff\n",
    "        return announce_highest(who, previous_high, score)\n",
    "    return say"
   ]
  },
  {
   "cell_type": "code",
   "execution_count": 9,
   "metadata": {},
   "outputs": [],
   "source": [
    "f0 = announce_highest(1, previous_high=0)"
   ]
  },
  {
   "cell_type": "code",
   "execution_count": 10,
   "metadata": {},
   "outputs": [
    {
     "ename": "UnboundLocalError",
     "evalue": "local variable 'previous_high' referenced before assignment",
     "output_type": "error",
     "traceback": [
      "\u001b[0;31m---------------------------------------------------------------------------\u001b[0m",
      "\u001b[0;31mUnboundLocalError\u001b[0m                         Traceback (most recent call last)",
      "\u001b[0;32m<ipython-input-10-67849e9f67be>\u001b[0m in \u001b[0;36m<module>\u001b[0;34m()\u001b[0m\n\u001b[0;32m----> 1\u001b[0;31m \u001b[0mf1\u001b[0m \u001b[0;34m=\u001b[0m \u001b[0mf0\u001b[0m\u001b[0;34m(\u001b[0m\u001b[0;36m11\u001b[0m\u001b[0;34m,\u001b[0m \u001b[0;36m0\u001b[0m\u001b[0;34m)\u001b[0m\u001b[0;34m\u001b[0m\u001b[0m\n\u001b[0m",
      "\u001b[0;32m<ipython-input-8-dc3544c41a45>\u001b[0m in \u001b[0;36msay\u001b[0;34m(score0, score1)\u001b[0m\n\u001b[1;32m     17\u001b[0m     \u001b[0;31m# BEGIN PROBLEM 7\u001b[0m\u001b[0;34m\u001b[0m\u001b[0;34m\u001b[0m\u001b[0m\n\u001b[1;32m     18\u001b[0m     \u001b[0;32mdef\u001b[0m \u001b[0msay\u001b[0m\u001b[0;34m(\u001b[0m\u001b[0mscore0\u001b[0m\u001b[0;34m,\u001b[0m \u001b[0mscore1\u001b[0m\u001b[0;34m)\u001b[0m\u001b[0;34m:\u001b[0m\u001b[0;34m\u001b[0m\u001b[0m\n\u001b[0;32m---> 19\u001b[0;31m         \u001b[0mprint\u001b[0m\u001b[0;34m(\u001b[0m\u001b[0mprevious_high\u001b[0m\u001b[0;34m)\u001b[0m\u001b[0;34m\u001b[0m\u001b[0m\n\u001b[0m\u001b[1;32m     20\u001b[0m         \u001b[0;32mif\u001b[0m \u001b[0mwho\u001b[0m \u001b[0;34m==\u001b[0m \u001b[0;36m0\u001b[0m\u001b[0;34m:\u001b[0m\u001b[0;34m\u001b[0m\u001b[0m\n\u001b[1;32m     21\u001b[0m             \u001b[0mscore\u001b[0m \u001b[0;34m=\u001b[0m \u001b[0mscore0\u001b[0m\u001b[0;34m\u001b[0m\u001b[0m\n",
      "\u001b[0;31mUnboundLocalError\u001b[0m: local variable 'previous_high' referenced before assignment"
     ]
    }
   ],
   "source": [
    "f1 = f0(11, 0)"
   ]
  },
  {
   "cell_type": "code",
   "execution_count": 6,
   "metadata": {},
   "outputs": [],
   "source": [
    "def announce_lead_changes(previous_leader=None):\n",
    "    \"\"\"Return a commentary function that announces lead changes.\n",
    "\n",
    "    >>> f0 = announce_lead_changes()\n",
    "    >>> f1 = f0(5, 0)\n",
    "    Player 0 takes the lead by 5\n",
    "    >>> f2 = f1(5, 12)\n",
    "    Player 1 takes the lead by 7\n",
    "    >>> f3 = f2(8, 12)\n",
    "    >>> f4 = f3(8, 13)\n",
    "    >>> f5 = f4(15, 13)\n",
    "    Player 0 takes the lead by 2\n",
    "    \"\"\"\n",
    "    def say(score0, score1):\n",
    "        print(previous_leader)\n",
    "        if score0 > score1:\n",
    "            leader = 0\n",
    "        elif score1 > score0:\n",
    "            leader = 1\n",
    "        else:\n",
    "            leader = None\n",
    "        if leader != None and leader != previous_leader:\n",
    "            print('Player', leader, 'takes the lead by', abs(score0 - score1))\n",
    "        return announce_lead_changes(leader)\n",
    "    return say"
   ]
  },
  {
   "cell_type": "code",
   "execution_count": 7,
   "metadata": {},
   "outputs": [
    {
     "name": "stdout",
     "output_type": "stream",
     "text": [
      "None\n",
      "Player 0 takes the lead by 5\n"
     ]
    }
   ],
   "source": [
    "f0 = announce_lead_changes()\n",
    "f1 = f0(5, 0)"
   ]
  },
  {
   "cell_type": "code",
   "execution_count": null,
   "metadata": {},
   "outputs": [],
   "source": []
  }
 ],
 "metadata": {
  "kernelspec": {
   "display_name": "Python 3",
   "language": "python",
   "name": "python3"
  },
  "language_info": {
   "codemirror_mode": {
    "name": "ipython",
    "version": 3
   },
   "file_extension": ".py",
   "mimetype": "text/x-python",
   "name": "python",
   "nbconvert_exporter": "python",
   "pygments_lexer": "ipython3",
   "version": "3.6.5"
  }
 },
 "nbformat": 4,
 "nbformat_minor": 2
}
