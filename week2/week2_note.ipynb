{
 "cells": [
  {
   "cell_type": "markdown",
   "metadata": {},
   "source": [
    "## short-circuit"
   ]
  },
  {
   "cell_type": "markdown",
   "metadata": {},
   "source": [
    "short-circuit happens when the operator reaches an operand that allows them to make an conclusion about the expression. For example, `and` will short-circuit as soon as it reaches the first false value because it then knows that not all the values are true."
   ]
  },
  {
   "cell_type": "code",
   "execution_count": 2,
   "metadata": {},
   "outputs": [
    {
     "ename": "ZeroDivisionError",
     "evalue": "division by zero",
     "output_type": "error",
     "traceback": [
      "\u001b[0;31m---------------------------------------------------------------------------\u001b[0m",
      "\u001b[0;31mZeroDivisionError\u001b[0m                         Traceback (most recent call last)",
      "\u001b[0;32m<ipython-input-2-9e1622b385b6>\u001b[0m in \u001b[0;36m<module>\u001b[0;34m()\u001b[0m\n\u001b[0;32m----> 1\u001b[0;31m \u001b[0;36m1\u001b[0m\u001b[0;34m/\u001b[0m\u001b[0;36m0\u001b[0m\u001b[0;34m\u001b[0m\u001b[0m\n\u001b[0m",
      "\u001b[0;31mZeroDivisionError\u001b[0m: division by zero"
     ]
    }
   ],
   "source": [
    "1/0"
   ]
  },
  {
   "cell_type": "code",
   "execution_count": 1,
   "metadata": {},
   "outputs": [
    {
     "data": {
      "text/plain": [
       "True"
      ]
     },
     "execution_count": 1,
     "metadata": {},
     "output_type": "execute_result"
    }
   ],
   "source": [
    "True or 1/0"
   ]
  },
  {
   "cell_type": "code",
   "execution_count": 3,
   "metadata": {},
   "outputs": [
    {
     "data": {
      "text/plain": [
       "13"
      ]
     },
     "execution_count": 3,
     "metadata": {},
     "output_type": "execute_result"
    }
   ],
   "source": [
    "True and 13"
   ]
  },
  {
   "cell_type": "code",
   "execution_count": 8,
   "metadata": {},
   "outputs": [
    {
     "data": {
      "text/plain": [
       "0"
      ]
     },
     "execution_count": 8,
     "metadata": {},
     "output_type": "execute_result"
    }
   ],
   "source": [
    "10 % 10"
   ]
  },
  {
   "cell_type": "code",
   "execution_count": 9,
   "metadata": {},
   "outputs": [
    {
     "data": {
      "text/plain": [
       "1.0"
      ]
     },
     "execution_count": 9,
     "metadata": {},
     "output_type": "execute_result"
    }
   ],
   "source": [
    "10 / 10"
   ]
  },
  {
   "cell_type": "code",
   "execution_count": 10,
   "metadata": {},
   "outputs": [
    {
     "name": "stdout",
     "output_type": "stream",
     "text": [
      "i know the number2\n"
     ]
    }
   ],
   "source": [
    "yes_no = input('i know the number')"
   ]
  },
  {
   "cell_type": "code",
   "execution_count": 12,
   "metadata": {},
   "outputs": [
    {
     "data": {
      "text/plain": [
       "'2'"
      ]
     },
     "execution_count": 12,
     "metadata": {},
     "output_type": "execute_result"
    }
   ],
   "source": [
    "yes_no.strip()"
   ]
  },
  {
   "cell_type": "markdown",
   "metadata": {},
   "source": [
    "## Testing"
   ]
  },
  {
   "cell_type": "code",
   "execution_count": 1,
   "metadata": {},
   "outputs": [],
   "source": [
    "def fib(n):\n",
    "    '''\n",
    "    计算 fibonacci 数 n>=2\n",
    "    '''\n",
    "    pred, curr = 0, 1 #fib 数列第一个数和第二个数\n",
    "    k = 2\n",
    "    while k < n:\n",
    "        pred, curr = curr, pred + curr\n",
    "        k = k + 1\n",
    "    return curr"
   ]
  },
  {
   "cell_type": "markdown",
   "metadata": {},
   "source": [
    "**Assertions**:  \n",
    "使用 `assert` statements 来对比期望值，比如测试的函数的输出"
   ]
  },
  {
   "cell_type": "code",
   "execution_count": 9,
   "metadata": {},
   "outputs": [],
   "source": [
    "assert fib(8) == 13, 'The 8th Fibonacci number should be 13'"
   ]
  },
  {
   "cell_type": "markdown",
   "metadata": {},
   "source": [
    "**Doctests**  \n",
    "python 提供了一个很便利的方法——可以在函数的 docstring 中放置简单的测试。docstring 第一行应当包含这个函数的描述，然后紧跟着是一个空行，接下来可能有详细的参数和函数行为的描述，除此之外还可能包含一些调用函数的样例"
   ]
  },
  {
   "cell_type": "code",
   "execution_count": 18,
   "metadata": {},
   "outputs": [],
   "source": [
    "def sum_naturals(n):\n",
    "    '''return sum of the first n natural numbers.\n",
    "    \n",
    "    >>> sum_naturals(10)\n",
    "    55\n",
    "    >>> sum_naturals(100)\n",
    "    5050\n",
    "    '''\n",
    "    total, k = 0, 1\n",
    "    while k <= n:\n",
    "        total += k\n",
    "        k += 1\n",
    "    return total"
   ]
  },
  {
   "cell_type": "markdown",
   "metadata": {},
   "source": [
    "我们可以使用 `doctest` 模块来做测试，`globals` 函数返回全局环境的一个表示，解释器需要它来评估 expressions. `run_docstring_examples` 函数，它的第一个参数是需要测试的函数，第二个参数是 expression `globals()` 返回的结果，第三个参数是 True 来表示我们想要 verbose 输出：就是一个所有测试运行的记录"
   ]
  },
  {
   "cell_type": "code",
   "execution_count": 19,
   "metadata": {},
   "outputs": [
    {
     "name": "stdout",
     "output_type": "stream",
     "text": [
      "Finding tests in NoName\n",
      "Trying:\n",
      "    sum_naturals(10)\n",
      "Expecting:\n",
      "    55\n",
      "ok\n",
      "Trying:\n",
      "    sum_naturals(100)\n",
      "Expecting:\n",
      "    5050\n",
      "ok\n"
     ]
    }
   ],
   "source": [
    "from doctest import run_docstring_examples\n",
    "run_docstring_examples(sum_naturals, globals(), True)"
   ]
  },
  {
   "cell_type": "markdown",
   "metadata": {},
   "source": [
    "## A Guide to designing Function"
   ]
  },
  {
   "cell_type": "markdown",
   "metadata": {},
   "source": [
    "* 给每个函数一个准确的工作\n",
    "* 不要重复自己，实现一个过程只一次但是运行它很多次\n",
    "* 定义一个通用函数"
   ]
  },
  {
   "cell_type": "markdown",
   "metadata": {},
   "source": [
    "## Higher-Order Functions"
   ]
  },
  {
   "cell_type": "markdown",
   "metadata": {},
   "source": [
    "### **Functions as Arguments**"
   ]
  },
  {
   "cell_type": "code",
   "execution_count": 21,
   "metadata": {},
   "outputs": [],
   "source": [
    "def summation(n, term):\n",
    "    total, k = 0, 1\n",
    "    while k <= n:\n",
    "        total, k = total + term(k), k + 1\n",
    "    return total\n",
    "\n",
    "def cube(x):\n",
    "    return x**3\n",
    "\n",
    "def pi_term(x):\n",
    "    return 8 / ((4*x-3) * (4*x-1))"
   ]
  },
  {
   "cell_type": "code",
   "execution_count": 24,
   "metadata": {},
   "outputs": [
    {
     "data": {
      "text/plain": [
       "3.1415676535897927"
      ]
     },
     "execution_count": 24,
     "metadata": {},
     "output_type": "execute_result"
    }
   ],
   "source": [
    "summation(20000, pi_term)"
   ]
  },
  {
   "cell_type": "markdown",
   "metadata": {},
   "source": [
    "### **Functions as General Methods**"
   ]
  },
  {
   "cell_type": "markdown",
   "metadata": {},
   "source": [
    "考虑下面为了迭代更新而实现一个 general method，并用它来计算黄金分割比。一个迭代更新算法初始化一个 `guess` 作为等式的解，它不断的应用 `update` 函数来更新 `guess`，并应用 `close` 的比较来判别是否当前的 `guess` 足够接近正确的值。"
   ]
  },
  {
   "cell_type": "code",
   "execution_count": 25,
   "metadata": {},
   "outputs": [],
   "source": [
    "def improve(update, close, guess=1):\n",
    "    while not close(guess):\n",
    "        guess = update(guess)\n",
    "    return guess"
   ]
  },
  {
   "cell_type": "markdown",
   "metadata": {},
   "source": [
    "这个函数不表明解决什么样的问题：细节被丢给了作为 arguments 传入的 `update` 和 `close` 函数"
   ]
  },
  {
   "cell_type": "markdown",
   "metadata": {},
   "source": [
    "我们下面定义的迭代黄金分割比的 `golden_update` 和 `square_close_to_successor` 函数"
   ]
  },
  {
   "cell_type": "code",
   "execution_count": 26,
   "metadata": {},
   "outputs": [],
   "source": [
    "def golden_update(guess):\n",
    "    return 1/guess + 1\n",
    "\n",
    "def square_close_to_successor(guess):\n",
    "    return approx_eq(guess*guess, guess+1)\n",
    "\n",
    "def approx_eq(x, y, tolerance=1e-15):\n",
    "    return abs(x - y) < tolerance"
   ]
  },
  {
   "cell_type": "code",
   "execution_count": 27,
   "metadata": {},
   "outputs": [
    {
     "data": {
      "text/plain": [
       "1.6180339887498951"
      ]
     },
     "execution_count": 27,
     "metadata": {},
     "output_type": "execute_result"
    }
   ],
   "source": [
    "improve(golden_update, square_close_to_successor)"
   ]
  },
  {
   "cell_type": "markdown",
   "metadata": {},
   "source": [
    "由此可见，命名和函数让我们抽象了巨大的复杂性，每个函数的定义可能是很简单琐碎的，但是整个计算过程确是很复杂，我们通过将小的部件组合形成复杂的过程"
   ]
  },
  {
   "cell_type": "markdown",
   "metadata": {},
   "source": [
    "### **Nested Definitions** "
   ]
  },
  {
   "cell_type": "markdown",
   "metadata": {},
   "source": [
    "上面我们介绍了可以在函数中传入函数，这样增加了我们的编程语言的表现力，然而里面有一个问题是 `update` 之于 `improve` 函数只能有一个参数，**nested function** 可以帮我们解决这个问题，但是需要丰富我们的 environment model"
   ]
  },
  {
   "cell_type": "markdown",
   "metadata": {},
   "source": [
    "让我们考虑一个新的问题：求一个数的平方根。下面我们想要求 a 的平方根，不断重复下面的更新会收敛到 \\\\(\\sqrt a\\\\)"
   ]
  },
  {
   "cell_type": "code",
   "execution_count": 28,
   "metadata": {},
   "outputs": [],
   "source": [
    "def average(x, y):\n",
    "    return (x + y)/2\n",
    "\n",
    "def sqrt_update(x, a):\n",
    "    return average(x, a/x)"
   ]
  },
  {
   "cell_type": "markdown",
   "metadata": {},
   "source": [
    "上面具有两个 argument 的更新函数与 `improve` 函数是不相符合的，解决方法是放置函数定义在其他定义中"
   ]
  },
  {
   "cell_type": "code",
   "execution_count": 29,
   "metadata": {},
   "outputs": [],
   "source": [
    "def sqrt(a):\n",
    "    def sqrt_update(x):\n",
    "        return average(x, a/x)\n",
    "    def sqrt_close(x):\n",
    "        return approx_eq(x*x, a)\n",
    "    return improve(sqrt_update, sqrt_close)"
   ]
  },
  {
   "cell_type": "markdown",
   "metadata": {},
   "source": [
    "**Lexical scope(词法范围)**：nested functions 可以访问环境中它们定义时的 names（这里感觉翻译为变量比较好，比如这里的 a）"
   ]
  },
  {
   "cell_type": "markdown",
   "metadata": {},
   "source": [
    "我们定义对 environment model 的两个拓展来了解 lexical scoping:\n",
    "* 每个用户定义的函数都有一个 parent environment，函数都是在其中被定义的\n",
    "* 当一个用户定义的函数被调用时，它的 local frame 就会拓展到 parent environment"
   ]
  },
  {
   "cell_type": "markdown",
   "metadata": {},
   "source": [
    "在调用 `sqrt(256)` 时，environment 先为 `sqrt` 增加一个 local frame，然后评估 `sqrt_update` 和 `sqrt_close` 的 def statements "
   ]
  },
  {
   "cell_type": "markdown",
   "metadata": {},
   "source": [
    "![image](1.jpg)"
   ]
  },
  {
   "cell_type": "markdown",
   "metadata": {},
   "source": [
    "注意当调用用户定义的函数时，产生的 local frame 和 这个函数具有相同的 parent"
   ]
  },
  {
   "cell_type": "markdown",
   "metadata": {},
   "source": [
    "我们可以看到下面的 f5 frame 中，只包含了 x，但是它的 parent frame f1 仍然包含 a "
   ]
  },
  {
   "cell_type": "markdown",
   "metadata": {},
   "source": [
    "![image](2.jpg)"
   ]
  },
  {
   "cell_type": "markdown",
   "metadata": {},
   "source": [
    "python 首先看 `sqrt_update` frame 中 —— 没有 a 存在，然后看它的 parent frame f1, 发现了 a 的 binding 值 256. `sqrt_update` 函数携带了一些数据: a 的值（当它被定义的时候），因为它 \"enclose\" 信息，所以 locally defined functions 通常被叫做 *closures(闭包)*"
   ]
  },
  {
   "cell_type": "markdown",
   "metadata": {},
   "source": [
    "### Functions as returned values"
   ]
  },
  {
   "cell_type": "markdown",
   "metadata": {},
   "source": [
    "词法范围编程语言的一个重要特征就是，在 local 定义的函数在返回时，保持了它们的 parent 环境"
   ]
  },
  {
   "cell_type": "code",
   "execution_count": 1,
   "metadata": {},
   "outputs": [],
   "source": [
    "def compose1(f, g):\n",
    "    def h(x):\n",
    "        return f(g(x))\n",
    "    return h"
   ]
  },
  {
   "cell_type": "markdown",
   "metadata": {},
   "source": [
    "当我们定义了很多简单的函数之后，可以使用函数复合 (function composition)来组合这些函数，比如给定了 `f(x)` 和 `g(x)` 之后，我们想定义 `h(x) = f(g(x))`，如上面的代码"
   ]
  },
  {
   "cell_type": "markdown",
   "metadata": {},
   "source": [
    "![image](3.jpg)"
   ]
  },
  {
   "cell_type": "markdown",
   "metadata": {},
   "source": [
    "### Currying"
   ]
  },
  {
   "cell_type": "markdown",
   "metadata": {},
   "source": [
    "我们可以用 high-order functions 来将一个有很多参数的函数变成一个每个函数只有一个参数的函数链。比如一个函数 `f(x,y)` ,我们可以定义一个新的函数 `g` 使得 `g(x)(y)` 与 `f(x,y)` 一样，这里 `g` 是一个 以 x 作为参数，并且返回的函数以 y 的参数的一个 high-order function，这个转变我们叫做 currying （我不知道怎么翻译成中文）"
   ]
  },
  {
   "cell_type": "markdown",
   "metadata": {},
   "source": [
    "我们可以定义一个 curried 版本的 `pow` 函数 "
   ]
  },
  {
   "cell_type": "code",
   "execution_count": 2,
   "metadata": {},
   "outputs": [],
   "source": [
    "def curried_pow(x):\n",
    "    def h(y):\n",
    "        return pow(x, y)\n",
    "    return h"
   ]
  },
  {
   "cell_type": "code",
   "execution_count": 3,
   "metadata": {},
   "outputs": [
    {
     "data": {
      "text/plain": [
       "81"
      ]
     },
     "execution_count": 3,
     "metadata": {},
     "output_type": "execute_result"
    }
   ],
   "source": [
    "curried_pow(3)(4)"
   ]
  },
  {
   "cell_type": "markdown",
   "metadata": {},
   "source": [
    "当我们只需要带有一个参数的函数时， currying 是非常有用的， the map pattern 就是对一组数应用单参数函数。在后面的篇章中我们会看到the map pattern 更多的例子，现在我们在一个函数中实现这个 pattern"
   ]
  },
  {
   "cell_type": "code",
   "execution_count": 4,
   "metadata": {},
   "outputs": [],
   "source": [
    "def map_to_range(start, end, f):\n",
    "    while start < end:\n",
    "        print(f(start))\n",
    "        start = start + 1"
   ]
  },
  {
   "cell_type": "code",
   "execution_count": 5,
   "metadata": {},
   "outputs": [
    {
     "name": "stdout",
     "output_type": "stream",
     "text": [
      "1\n",
      "2\n",
      "4\n",
      "8\n",
      "16\n",
      "32\n",
      "64\n",
      "128\n",
      "256\n",
      "512\n"
     ]
    }
   ],
   "source": [
    "map_to_range(0, 10, curried_pow(2))"
   ]
  },
  {
   "cell_type": "markdown",
   "metadata": {},
   "source": [
    "在上面的函数中，我们对 `pow` 函数实施了 currying transformation 来得到 `curried_pow`，现在我们可以定义函数自动 currying,也可以 uncurrying"
   ]
  },
  {
   "cell_type": "code",
   "execution_count": 6,
   "metadata": {},
   "outputs": [],
   "source": [
    "def curry2(f):\n",
    "    '''返回了一个两参数函数的 curried 版本'''\n",
    "    def g(x):\n",
    "        def h(y):\n",
    "            return f(x, y)\n",
    "        return h\n",
    "    return g"
   ]
  },
  {
   "cell_type": "code",
   "execution_count": 7,
   "metadata": {},
   "outputs": [],
   "source": [
    "def uncurry2(g):\n",
    "    '''返回一个两参数版本的给定的 curried 函数'''\n",
    "    def f(x, y):\n",
    "        return g(x)(y)\n",
    "    return f"
   ]
  },
  {
   "cell_type": "code",
   "execution_count": 9,
   "metadata": {},
   "outputs": [],
   "source": [
    "pow_curried = curry2(pow)"
   ]
  },
  {
   "cell_type": "code",
   "execution_count": 10,
   "metadata": {},
   "outputs": [
    {
     "data": {
      "text/plain": [
       "32"
      ]
     },
     "execution_count": 10,
     "metadata": {},
     "output_type": "execute_result"
    }
   ],
   "source": [
    "pow_curried(2)(5)"
   ]
  },
  {
   "cell_type": "code",
   "execution_count": 12,
   "metadata": {},
   "outputs": [
    {
     "name": "stdout",
     "output_type": "stream",
     "text": [
      "1\n",
      "2\n",
      "4\n",
      "8\n",
      "16\n",
      "32\n",
      "64\n",
      "128\n",
      "256\n",
      "512\n"
     ]
    }
   ],
   "source": [
    "map_to_range(0, 10, pow_curried(2))"
   ]
  },
  {
   "cell_type": "markdown",
   "metadata": {},
   "source": [
    "`curry2` 以一个二参数函数 `f` 作为参数，返回一个单参数函数 `g`，因此 `curry2(f)(x)(y)` 等于 `f(x, y)`. `uncurry2` 函数重置了 currying transformation, 因此 `uncurry2(curry2(f))` 等于 `f`"
   ]
  },
  {
   "cell_type": "code",
   "execution_count": 13,
   "metadata": {},
   "outputs": [
    {
     "data": {
      "text/plain": [
       "32"
      ]
     },
     "execution_count": 13,
     "metadata": {},
     "output_type": "execute_result"
    }
   ],
   "source": [
    "uncurry2(pow_curried)(2, 5)"
   ]
  },
  {
   "cell_type": "markdown",
   "metadata": {},
   "source": [
    "### Lambda Expressions"
   ]
  },
  {
   "cell_type": "markdown",
   "metadata": {},
   "source": [
    "之前我们定义函数都会给它定义一个名字，在 python 中我们可以定义使用 `lambda` 表达式来定义匿名函数。一个 lambda 表达式评估了一个具有单一返回表达式当作它的 body,赋值和控制声明都是不允许的。"
   ]
  },
  {
   "cell_type": "code",
   "execution_count": 14,
   "metadata": {},
   "outputs": [],
   "source": [
    "# 利用 lambda 重新定义 compose1 函数\n",
    "def compose1(f, g):\n",
    "    return lambda x: f(g(x))"
   ]
  },
  {
   "cell_type": "markdown",
   "metadata": {},
   "source": [
    "我们可以这样理解 lambda 表达式的结构：  \n",
    "lambda          x          :           f(g(x))  \n",
    "a function that takes x   and returns  f(g(x))"
   ]
  },
  {
   "cell_type": "markdown",
   "metadata": {},
   "source": [
    "lambda 表达式的结果被叫做 lambda 函数，它没有名字（python 打印 <lambda> 作为名字）,但是它与其他函数没什么区别"
   ]
  },
  {
   "cell_type": "code",
   "execution_count": 15,
   "metadata": {},
   "outputs": [],
   "source": [
    "s  = lambda x: x * x"
   ]
  },
  {
   "cell_type": "code",
   "execution_count": 16,
   "metadata": {},
   "outputs": [
    {
     "data": {
      "text/plain": [
       "<function __main__.<lambda>(x)>"
      ]
     },
     "execution_count": 16,
     "metadata": {},
     "output_type": "execute_result"
    }
   ],
   "source": [
    "s"
   ]
  },
  {
   "cell_type": "code",
   "execution_count": 17,
   "metadata": {},
   "outputs": [
    {
     "data": {
      "text/plain": [
       "144"
      ]
     },
     "execution_count": 17,
     "metadata": {},
     "output_type": "execute_result"
    }
   ],
   "source": [
    "s(12)"
   ]
  },
  {
   "cell_type": "markdown",
   "metadata": {},
   "source": [
    "在 environment diagram 中，lambda 表达式的结果也是函数，它的名字是希腊字母 \\\\(\\lambda \\\\)。我们的 compose 函数可以用 lambda 表达式非常简洁的来表述"
   ]
  },
  {
   "cell_type": "markdown",
   "metadata": {},
   "source": [
    "![image](4.jpg)"
   ]
  },
  {
   "cell_type": "markdown",
   "metadata": {},
   "source": [
    "但是使用匿名函数会使得程序的可读性变差，但是有的时候使用它会使得程序变得更简洁，比如前面举的例子，当你想返回函数的时候。"
   ]
  },
  {
   "cell_type": "markdown",
   "metadata": {},
   "source": [
    "### Function Decorators"
   ]
  },
  {
   "cell_type": "markdown",
   "metadata": {},
   "source": [
    "python 提供了一种特殊的语法来实现 higher-order 函数，作为执行 def 语句的一部分（被称作装饰器）"
   ]
  },
  {
   "cell_type": "code",
   "execution_count": 18,
   "metadata": {},
   "outputs": [],
   "source": [
    "def trace(fn):\n",
    "    def wrapped(x):\n",
    "        print('->', fn, '(', x, ')')\n",
    "        return fn(x)\n",
    "    return wrapped"
   ]
  },
  {
   "cell_type": "code",
   "execution_count": 19,
   "metadata": {},
   "outputs": [],
   "source": [
    "@trace\n",
    "def triple(x):\n",
    "    return 3 * x"
   ]
  },
  {
   "cell_type": "code",
   "execution_count": 20,
   "metadata": {},
   "outputs": [
    {
     "name": "stdout",
     "output_type": "stream",
     "text": [
      "-> <function triple at 0x10d791048> ( 12 )\n"
     ]
    },
    {
     "data": {
      "text/plain": [
       "36"
      ]
     },
     "execution_count": 20,
     "metadata": {},
     "output_type": "execute_result"
    }
   ],
   "source": [
    "triple(12)"
   ]
  },
  {
   "cell_type": "markdown",
   "metadata": {},
   "source": [
    "注意在上面的 `triple` 函数的 def 前有一个  @ 标记，它影响了 def 的执行规则。如果是正常的状况，函数 triple 被创造了，但是现在这里面的名字 triple 不再绑定到这个函数。它绑定的是在 triple 上 调用 trace 的返回值，这个装饰器与下面的定义相同："
   ]
  },
  {
   "cell_type": "code",
   "execution_count": 21,
   "metadata": {},
   "outputs": [],
   "source": [
    "def triple(x):\n",
    "    return 3 * x\n",
    "triple = trace(triple)"
   ]
  }
 ],
 "metadata": {
  "kernelspec": {
   "display_name": "Python 3",
   "language": "python",
   "name": "python3"
  },
  "language_info": {
   "codemirror_mode": {
    "name": "ipython",
    "version": 3
   },
   "file_extension": ".py",
   "mimetype": "text/x-python",
   "name": "python",
   "nbconvert_exporter": "python",
   "pygments_lexer": "ipython3",
   "version": "3.6.5"
  }
 },
 "nbformat": 4,
 "nbformat_minor": 2
}
