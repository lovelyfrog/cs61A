{
 "cells": [
  {
   "cell_type": "markdown",
   "metadata": {},
   "source": [
    "Before we introduce two fundamental elements of programming: functions and data. Now we will introduce the third fundamental element: programs themselves. \n",
    "\n",
    "A python program is just a collection of text. Only through the process of interpretation do we perform any meaningful computation based on that text."
   ]
  },
  {
   "cell_type": "markdown",
   "metadata": {},
   "source": [
    "As an example of a powerful language with a minimal set of features, we will introduce the `Scheme` programming language. We will study the design of the interpreters and the computational processes that they create when executing programs."
   ]
  },
  {
   "cell_type": "markdown",
   "metadata": {},
   "source": [
    "# Functional Programming"
   ]
  },
  {
   "cell_type": "markdown",
   "metadata": {},
   "source": [
    "In this section, we introduce a high-level programming language that encourages a functional style. Our object of study, a subset of the Scheme language, employs a very similar model of computation to Python's, but uses only expressions(no statements), specializes in symbolic computation, and employs only immutable values."
   ]
  },
  {
   "cell_type": "markdown",
   "metadata": {},
   "source": [
    "Scheme is a dialect of **Lisp**, the second-oldest programming language that is still widely used today(after **Fortran**)"
   ]
  },
  {
   "cell_type": "markdown",
   "metadata": {},
   "source": [
    "## Expressions"
   ]
  },
  {
   "cell_type": "markdown",
   "metadata": {},
   "source": [
    "Scheme programs consist of expressions, which are either call expressions or special forms. Scheme exclusively uses prefix notation. Call expressions can be nested, and they may span more than one line."
   ]
  },
  {
   "cell_type": "markdown",
   "metadata": {},
   "source": [
    "```Lisp\n",
    "(+ (* 3 5) (- 10 6))\n",
    "19\n",
    "```"
   ]
  },
  {
   "cell_type": "markdown",
   "metadata": {},
   "source": [
    "The evaluation procedure of call expressions: first the operator and operand expressions are evaluated, and then the function that is the value of the operator is applied to the arguments that are the values of the operands."
   ]
  },
  {
   "cell_type": "markdown",
   "metadata": {},
   "source": [
    "The `if` expression in Scheme is a special form, meaning that while it looks syntactically like a call expression, it has a different evaluation procedure. The general form of an `if` expression is:\n",
    "\n",
    "    (if <predicate> <consequent> <alternative>)"
   ]
  },
  {
   "cell_type": "markdown",
   "metadata": {},
   "source": [
    "Numerical values can be compared using familiar comparison operators, but prefix notation is used as well:\n",
    "\n",
    "```Lisp\n",
    "(>= 2 1)\n",
    "true\n",
    "```"
   ]
  },
  {
   "cell_type": "markdown",
   "metadata": {},
   "source": [
    "The boolean values `#t`(or `true`) and `#f` (or `false`) in Scheme can be combined with boolean special forms, which have evaluation procedures similar to those in Python."
   ]
  },
  {
   "cell_type": "markdown",
   "metadata": {},
   "source": [
    "Some other special forms:\n",
    "\n",
    "```Lisp\n",
    "(and <e1> ... <en>)\n",
    "(or <e1> ... <en>)\n",
    "(not <e>)\n",
    "```"
   ]
  },
  {
   "cell_type": "markdown",
   "metadata": {},
   "source": [
    "## Definitions"
   ]
  },
  {
   "cell_type": "markdown",
   "metadata": {},
   "source": [
    "Values can be named using the `define` special form:\n",
    "\n",
    "```Lisp\n",
    "(define pi 3.14)\n",
    "(* pi 2)\n",
    "6.28\n",
    "```"
   ]
  },
  {
   "cell_type": "markdown",
   "metadata": {},
   "source": [
    "New functions (called procedures in Scheme) can be defined using a second version of the `define` special form. \n",
    "\n",
    "    (define (square x) (* x x))\n",
    "    \n",
    "The general form of a procedure definition is:\n",
    "\n",
    "    (define (<name> <formal parameter>) <body>)"
   ]
  },
  {
   "cell_type": "markdown",
   "metadata": {},
   "source": [
    "Anonymous functions are created using the `lambda` special form. `Lambda` is used to create procedures in the same way as `define`, except that no name is specified for the procedure:\n",
    "\n",
    "    (lambda (<formal-parameters>) <body>)"
   ]
  },
  {
   "cell_type": "markdown",
   "metadata": {},
   "source": [
    "The following expressions are equivalent:\n",
    "    \n",
    "    (define (plus4 x) (+ x 4))\n",
    "    (define plus4 (lambda (x) (+x 4))"
   ]
  },
  {
   "cell_type": "markdown",
   "metadata": {},
   "source": [
    "```Lisp\n",
    "((lambda (x y z) (+ x y (square z))) 1 2 3)\n",
    "12\n",
    "```"
   ]
  },
  {
   "cell_type": "markdown",
   "metadata": {},
   "source": [
    "## Compound values"
   ]
  },
  {
   "cell_type": "markdown",
   "metadata": {},
   "source": [
    "Pairs are built into the Scheme language. For historical reasons, pairs are created with the `cons` built-in function, and the elements of a pair are accessed with `car` and `cdr`"
   ]
  },
  {
   "cell_type": "markdown",
   "metadata": {},
   "source": [
    "A special value denoted `nil` or `'()` represents the empty list."
   ]
  },
  {
   "cell_type": "markdown",
   "metadata": {},
   "source": [
    "```Lisp\n",
    "(cons 1 (cons 2 (cons 3 (cons 4 nil))))\n",
    "(1 2 3 4)\n",
    "(list 1 2 3 4)\n",
    "(1 2 3 4)\n",
    "(define one-through-four (list 1 2 3 4))\n",
    "(car one-through-four)\n",
    "1\n",
    "(cdr one-through-four)\n",
    "(2 3 4)\n",
    "```"
   ]
  },
  {
   "cell_type": "markdown",
   "metadata": {},
   "source": [
    "Whether a list is empty can be determined using the primitive `null?` predicate."
   ]
  },
  {
   "cell_type": "markdown",
   "metadata": {},
   "source": [
    "## Symbolic Data"
   ]
  },
  {
   "cell_type": "markdown",
   "metadata": {},
   "source": [
    "One of Scheme's strengths is working with arbitrary symbols as data.\n",
    "\n",
    "In order to manipulate symbols we need a new element in our language: the ability to quote a data object. Suppose we want to construct the list `(a b)`. We can't accompolish this with `(list a b)`, because this expression constructs a list of the values of `a` and `b` rather than the symbols themselves. In Scheme, we refer to the symbols `a` and `b` rather than their values by preceding them with a single quotation mark."
   ]
  },
  {
   "cell_type": "markdown",
   "metadata": {},
   "source": [
    "```Lisp\n",
    "(define a 1)\n",
    "(define b 2)\n",
    "(list a b)\n",
    "(1 2)\n",
    "(list 'a 'b)\n",
    "(a b)\n",
    "```"
   ]
  },
  {
   "cell_type": "markdown",
   "metadata": {},
   "source": [
    "In Scheme, any expression that is not evaluated is said to be quoted. Quatation also allows us to type in compound objects, using the conventional printed representation for lists:\n",
    "\n",
    "```Lisp\n",
    "(car '(a b c))\n",
    "a\n",
    "(cdr '(a b c))\n",
    "(b c)\n",
    "```"
   ]
  },
  {
   "cell_type": "markdown",
   "metadata": {},
   "source": [
    "# Exceptions"
   ]
  },
  {
   "cell_type": "markdown",
   "metadata": {},
   "source": [
    "When designing a program, one must anticipate the exceptional circumstances that may arise and take appropriate measures to handle them.\n",
    "\n",
    "The Python interpreter handles errors by terminating immediately and printing an error message, so that programmers can address issues as soon as they arise. It raises an exception each time it detects an error in an expression or statement. Users can also raise exceptions with `raise` and `assert` statements."
   ]
  },
  {
   "cell_type": "markdown",
   "metadata": {},
   "source": [
    "**Raising exceptions**. An exception is a object instance with a class that inherits, either directly ot indirectly, from the `BaseException` class. The `assert` statement introduced in Chapter 1 raises an exception with the class `AssertionError`. In general, any exception instance can be raised with the `raise` statement."
   ]
  },
  {
   "cell_type": "code",
   "execution_count": 1,
   "metadata": {},
   "outputs": [
    {
     "ename": "Exception",
     "evalue": "An error occurred",
     "output_type": "error",
     "traceback": [
      "\u001b[0;31m---------------------------------------------------------------------------\u001b[0m",
      "\u001b[0;31mException\u001b[0m                                 Traceback (most recent call last)",
      "\u001b[0;32m<ipython-input-1-283029418587>\u001b[0m in \u001b[0;36m<module>\u001b[0;34m()\u001b[0m\n\u001b[0;32m----> 1\u001b[0;31m \u001b[0;32mraise\u001b[0m \u001b[0mException\u001b[0m\u001b[0;34m(\u001b[0m\u001b[0;34m'An error occurred'\u001b[0m\u001b[0;34m)\u001b[0m\u001b[0;34m\u001b[0m\u001b[0m\n\u001b[0m",
      "\u001b[0;31mException\u001b[0m: An error occurred"
     ]
    }
   ],
   "source": [
    "raise Exception('An error occurred')"
   ]
  },
  {
   "cell_type": "markdown",
   "metadata": {},
   "source": [
    "**Handling exceptions**. An exception can be handled by an enclosing `try` statement. A `try` statement consists of multiple clauses; the first begins with `try` and the rest begin with `except`:\n",
    "\n",
    "    try:\n",
    "        <try suite>\n",
    "    except <exception class> as <name>:\n",
    "        <except suite>"
   ]
  },
  {
   "cell_type": "markdown",
   "metadata": {},
   "source": [
    "The identifier `<name>` is bound to the exception object that was raised, but this binging does not persist beyond `<except suite>`."
   ]
  },
  {
   "cell_type": "code",
   "execution_count": 4,
   "metadata": {},
   "outputs": [
    {
     "name": "stdout",
     "output_type": "stream",
     "text": [
      "Handling a <class 'ZeroDivisionError'>\n"
     ]
    }
   ],
   "source": [
    "try:\n",
    "    x = 1/0\n",
    "except ZeroDivisionError as e:\n",
    "    print('Handling a', type(e))\n",
    "    x = 0"
   ]
  },
  {
   "cell_type": "markdown",
   "metadata": {},
   "source": [
    "## Exception Objects"
   ]
  },
  {
   "cell_type": "markdown",
   "metadata": {},
   "source": [
    "User-defined exception classes can have additional attributes."
   ]
  },
  {
   "cell_type": "markdown",
   "metadata": {},
   "source": [
    "Before we implemented Newton's method to find the zeros of arbitrary functions. The following example defines an exception class that returns the best guess discovered in the course of iterative improvement whenever a `ValueError` occurs. A math domain error(a type of `ValueError`) is raised when `sqrt` is applied to a negative number. This exception is handled by raising an `IterImproveError` that stores the most recent guess from Newton's method as an attribute."
   ]
  },
  {
   "cell_type": "code",
   "execution_count": 17,
   "metadata": {},
   "outputs": [],
   "source": [
    "def newton_update(f):\n",
    "    def update(x):\n",
    "        return x - f(x) / (4*x + 0.5 / sqrt(x))\n",
    "    return update"
   ]
  },
  {
   "cell_type": "code",
   "execution_count": 18,
   "metadata": {},
   "outputs": [],
   "source": [
    "class IterImproveError(Exception):\n",
    "    def __init__(self, last_guess):\n",
    "        self.last_guess = last_guess"
   ]
  },
  {
   "cell_type": "code",
   "execution_count": 19,
   "metadata": {},
   "outputs": [],
   "source": [
    "def improve(update, done, guess=1, max_updates=1000):\n",
    "    k = 0\n",
    "    try:\n",
    "        while not done(guess) and k < max_updates:\n",
    "            guess = update(guess)\n",
    "            k = k + 1\n",
    "        return guess\n",
    "    except ValueError:\n",
    "        raise IterImproveError(guess)"
   ]
  },
  {
   "cell_type": "code",
   "execution_count": 20,
   "metadata": {},
   "outputs": [],
   "source": [
    "def find_zero(f, guess=1):\n",
    "    def done(x):\n",
    "        return f(x) == 0\n",
    "    try:\n",
    "        return improve(newton_update(f), done, guess)\n",
    "    except IterImproveError as e:\n",
    "        return e.last_guess"
   ]
  },
  {
   "cell_type": "markdown",
   "metadata": {},
   "source": [
    "Consider applying `find_zero` to find the zero of the function $2x^2 + \\sqrt{x}$. This function has a zero at 0, but evaluating it on any negative number will raise a `ValueError`. The former implementation of Newton's Method would raise that error and fail to return any guess of the zero. Our revised implementation returns the last guess found before the error."
   ]
  },
  {
   "cell_type": "code",
   "execution_count": 21,
   "metadata": {},
   "outputs": [],
   "source": [
    "from math import sqrt"
   ]
  },
  {
   "cell_type": "code",
   "execution_count": 22,
   "metadata": {},
   "outputs": [
    {
     "data": {
      "text/plain": [
       "-0.030214676328644885"
      ]
     },
     "execution_count": 22,
     "metadata": {},
     "output_type": "execute_result"
    }
   ],
   "source": [
    "find_zero(lambda x: 2*x*x + sqrt(x))"
   ]
  },
  {
   "cell_type": "code",
   "execution_count": 23,
   "metadata": {},
   "outputs": [
    {
     "ename": "AttributeError",
     "evalue": "'str' object has no attribute 'current'",
     "output_type": "error",
     "traceback": [
      "\u001b[0;31m---------------------------------------------------------------------------\u001b[0m",
      "\u001b[0;31mAttributeError\u001b[0m                            Traceback (most recent call last)",
      "\u001b[0;32m<ipython-input-23-d5f5955ae255>\u001b[0m in \u001b[0;36m<module>\u001b[0;34m()\u001b[0m\n\u001b[0;32m----> 1\u001b[0;31m \u001b[0;34m'asd'\u001b[0m\u001b[0;34m.\u001b[0m\u001b[0mcurrent\u001b[0m\u001b[0;34m(\u001b[0m\u001b[0;34m)\u001b[0m\u001b[0;34m\u001b[0m\u001b[0m\n\u001b[0m",
      "\u001b[0;31mAttributeError\u001b[0m: 'str' object has no attribute 'current'"
     ]
    }
   ],
   "source": [
    "'asd'.current()"
   ]
  },
  {
   "cell_type": "markdown",
   "metadata": {},
   "source": [
    "# Interpreters for Languages with Combination"
   ]
  },
  {
   "cell_type": "markdown",
   "metadata": {},
   "source": [
    "*Metalinguistic abstraction* -- establishing new languages -- plays an important role in all branches of engineering design. In programming not only we can we formulate new languages but we can also implement these languages by constructing interpreters."
   ]
  },
  {
   "cell_type": "markdown",
   "metadata": {},
   "source": [
    "## A Scheme-Syntax Calculator"
   ]
  },
  {
   "cell_type": "markdown",
   "metadata": {},
   "source": [
    "The Scheme-Syntax Calculator is an expression language for the arithmetic operations of addition, substraction, multiplication, and division. Calculator shares Scheme's call expression syntax and operator behavior. \n",
    "\n",
    "A call expression is evaluated by evaluating its operand sub-expressions, then applying the operator to the resulting arguments.\n",
    "\n",
    "We will implement an interpreter for the Calculator language in Python. That is, we will write a Python program that takes string lines as input and returns the result of evaluating those lines as a Calculator expression. Our interpreter will raise an appropriate exception if the calculator expression is not well formed."
   ]
  },
  {
   "cell_type": "markdown",
   "metadata": {},
   "source": [
    "## Expression Trees"
   ]
  },
  {
   "cell_type": "markdown",
   "metadata": {},
   "source": [
    "A primitive expression is just a number or a string in Calculator: either an `int` or `float` or an operator symbol. All combined expressions are call expressions. A call expression is a Scheme list with a first element(the operator) followed by zero or more operand expressions.\n",
    "\n",
    "\n",
    "**Scheme pairs**. In Scheme, lists are nested pairs, but not all pairs are lists. To represent Scheme pairs and lists in Python, we will define a class `Pair`. This implementation appears in `scheme_reader.py`"
   ]
  },
  {
   "cell_type": "markdown",
   "metadata": {},
   "source": [
    "The empty list is represented by an object called `nil`, which is an instance of the class `nil`. We assume that only one `nil` instance will ever be created."
   ]
  },
  {
   "cell_type": "markdown",
   "metadata": {},
   "source": [
    "The `Pair` class and `nil` object are Scheme values represented in Python. They have `repr` strings that are Python expressions and `str` strings that are Scheme expressions."
   ]
  },
  {
   "cell_type": "markdown",
   "metadata": {},
   "source": [
    "They implement the basic Python sequence interface of length and element selection, as well as a `map` method that returns a Scheme list."
   ]
  },
  {
   "cell_type": "markdown",
   "metadata": {},
   "source": [
    "**Nested Lists**. Nested pairs can represent lists, but the elements of a list can also be lists themselves Pairs are therefore sufficient to represent Scheme expressions, which are in fact nested lists."
   ]
  },
  {
   "cell_type": "markdown",
   "metadata": {},
   "source": [
    "```python\n",
    ">>> expr = Pair('+', Pair(Pair('*', Pair(3, Pair(4, nil))), Pair(5, nil)))\n",
    ">>> print(expr)\n",
    "(+ (* 3 4) 5)\n",
    ">>> print(expr.second.first)\n",
    "(* 3 4)\n",
    ">>> expr.second.first.second.first\n",
    "3\n",
    "```"
   ]
  },
  {
   "cell_type": "markdown",
   "metadata": {},
   "source": [
    "Our Calculator interpreter will read in nested Scheme lists, convert them into expression trees represented as nested `Pair` instances (*Parsing expressions* below), and then evaluate the expression trees to produce values (*Calculator evaluation* below)"
   ]
  },
  {
   "cell_type": "markdown",
   "metadata": {},
   "source": [
    "## Parsing Expressions"
   ]
  },
  {
   "cell_type": "markdown",
   "metadata": {},
   "source": [
    "Parsing is the process of generating expression trees from raw text input. A parser is a composition of two components: a lexical analyzer and a syntactic analyzer. Firse, the *lexical analyzer* partitions the input string into tokens, which are the minimal syntactic units of the language such as names and symbols. Second, the syntactic analyzer constructs an expression tree from this sequence of tokens. The sequence of tokens produced by the lexical analyzer is consumed by the syntactic analyzer."
   ]
  },
  {
   "cell_type": "markdown",
   "metadata": {},
   "source": [
    "**Lexical analysis**. The component that interprets a string as a token sequence is called a *tokenizer* or *lexical analyzer*. In our implementation, the tokenizer is a function called `tokenize_line` in `scheme_tokens.py`. "
   ]
  },
  {
   "cell_type": "markdown",
   "metadata": {},
   "source": [
    "```python\n",
    ">>> tokenize_line('(+ 1 (* 2.3 45))')\n",
    "['(', '+', 1, '(', '*', 2.3, 45, ')', ')']\n",
    "\n",
    "```"
   ]
  },
  {
   "cell_type": "markdown",
   "metadata": {},
   "source": [
    "**Syntactic analysis**. The component that interprets a token sequence as an expression tree is called a *syntactic analyzer*. Syntactic analysis is a tree-recursive process, and it must consider an entire expression that may span multiple lines."
   ]
  },
  {
   "cell_type": "markdown",
   "metadata": {},
   "source": [
    "Syntactic analysis is implemented by the `scheme_read` function in `scheme_reader.py`. It is tree-recursive because analyzing a sequence of tokens often involves analyzing a subsequence og those tokens into a subexpression, which itself serves as a branch of a larger expression tree.\n",
    "\n",
    "The `scheme_read` function expects its input `src` to be a `Buffer` instance that gives access to a sequence of tokens. A `Buffer`, defined in the `Buffer` module, collects tokens that span multiple lines into a single object that can be analyzed syntactically."
   ]
  },
  {
   "cell_type": "markdown",
   "metadata": {},
   "source": [
    "```python\n",
    ">>> lines = ['(+ 1', '   (* 2.3 45))']\n",
    ">>> expression = scheme_read(Buffer(tokenize_lines(lines)))\n",
    ">>> expression\n",
    "Pair('+', Pair(1, Pair(Pair('*', Pair(2.3, Pair(45, nil))), nil)))\n",
    ">>> print(expression)\n",
    "(+ 1 (* 2.3 45))\n",
    "```"
   ]
  },
  {
   "cell_type": "markdown",
   "metadata": {},
   "source": [
    "The `scheme_read` function firsr checks for various base cases, including empty input(which raises an end-of-file exception, called `EOFError` in Python) and primitive expressions. A recursive call to `read_tail` is invoked whenever a `(` token indicates the beginning of a list.\n",
    "\n",
    "The `read_tail` function continues to read from the same input `src`, but expects to be called after a list has begun. "
   ]
  },
  {
   "cell_type": "markdown",
   "metadata": {},
   "source": [
    "## Calculator Evaluation"
   ]
  },
  {
   "cell_type": "markdown",
   "metadata": {},
   "source": [
    "The `scalc.py` module implements an evaluator for the Calculator language. The `calc_eval` function takes an expression as an argument and return its value. Definitions of the helper functions `simplify`, `reduce`, and `as_scheme_list` appear in the model and are used below."
   ]
  },
  {
   "cell_type": "markdown",
   "metadata": {},
   "source": [
    "For Calculator, the only two legal syntactic forms of expressions are numbers and call expressions, which are `Pair` instances representing well-formed Scheme lists."
   ]
  },
  {
   "cell_type": "code",
   "execution_count": null,
   "metadata": {},
   "outputs": [],
   "source": [
    "def calc_eval(exp):\n",
    "    \"\"\"Evaluate a Calculator expression.\"\"\"\n",
    "    if type(exp) in (int, float):\n",
    "        return simplify(exp)\n",
    "    elif isinstance(exp, Pair):\n",
    "        arguments = exp.second.map(calc_eval)\n",
    "        return simplify(calc_apply(exp.first, arguments))\n",
    "    else:\n",
    "        raise TypeError(exp + ' is not a number or call expression')"
   ]
  },
  {
   "cell_type": "markdown",
   "metadata": {},
   "source": [
    "Call expressions are evaluated by first recursively mapping the `calc_eval` function to the list of operands, which computes a list of `arguments`. Then, the operator is applied to those arguments in a second function, `calc_apply`."
   ]
  },
  {
   "cell_type": "code",
   "execution_count": null,
   "metadata": {},
   "outputs": [],
   "source": [
    "def calc_apply(operator, args):\n",
    "        \"\"\"Apply the named operator to a list of args.\"\"\"\n",
    "        if not isinstance(operator, str):\n",
    "            raise TypeError(str(operator) + ' is not a symbol')\n",
    "        if operator == '+':\n",
    "            return reduce(add, args, 0)\n",
    "        elif operator == '-':\n",
    "            if len(args) == 0:\n",
    "                raise TypeError(operator + ' requires at least 1 argument')\n",
    "            elif len(args) == 1:\n",
    "                return -args.first\n",
    "            else:\n",
    "                return reduce(sub, args.second, args.first)\n",
    "        elif operator == '*':\n",
    "            return reduce(mul, args, 1)\n",
    "        elif operator == '/':\n",
    "            if len(args) == 0:\n",
    "                raise TypeError(operator + ' requires at least 1 argument')\n",
    "            elif len(args) == 1:\n",
    "                return 1/args.first\n",
    "            else:\n",
    "                return reduce(truediv, args.second, args.first)\n",
    "        else:\n",
    "            raise TypeError(operator + ' is an unknown operator')"
   ]
  },
  {
   "cell_type": "markdown",
   "metadata": {},
   "source": [
    "```python\n",
    ">>> calc_apply('+', as_scheme_list(1, 2, 3))\n",
    "6\n",
    ">>> calc_apply('-', as_scheme_list(10, 1, 2, 3))\n",
    "4\n",
    ">>> calc_apply('*', nil)\n",
    "1\n",
    ">>> calc_apply('*', as_scheme_list(1, 2, 3, 4, 5))\n",
    "120\n",
    ">>> calc_apply('/', as_scheme_list(40, 5))\n",
    "8.0\n",
    "```"
   ]
  },
  {
   "cell_type": "markdown",
   "metadata": {},
   "source": [
    "The role of `calc_eval` is to make proper calls to `calc_apply` by first computing the value of operand sub-expressions before passing them as arguments to `calc_apply`. Thus, `calc_eval` can accept a nested expression."
   ]
  },
  {
   "cell_type": "markdown",
   "metadata": {},
   "source": [
    "```python\n",
    ">>> print(exp)\n",
    "(+ (* 3 4) 5)\n",
    ">>> calc_eval(exp)\n",
    "17\n",
    "```"
   ]
  },
  {
   "cell_type": "markdown",
   "metadata": {},
   "source": [
    "**Read-eval-print loops**. A typical approach to interacting with an operand is through a read-eval-print loop, or REPL, which is a mode of interaction that reads an expression, evaluates it, and prints the result for the user. The Python interactive session is an example of such a loop.\n",
    "\n",
    "The function `read_eval_print_loop` below buffers input from the user, constructs an expression using the language-specific `scheme_read` function, then prints the result of applying `calc_eval` to that expression."
   ]
  },
  {
   "cell_type": "code",
   "execution_count": null,
   "metadata": {},
   "outputs": [],
   "source": [
    "def read_eval_print_loop():\n",
    "    \"\"\"Run a read-eval-print loop for calculator.\"\"\"\n",
    "    while True:\n",
    "        src = buffer_input()\n",
    "        while src.more_on_line:\n",
    "            expression = scheme_read(src)\n",
    "            print(calc_eval(expression))"
   ]
  },
  {
   "cell_type": "markdown",
   "metadata": {},
   "source": [
    "An example session would look like:\n",
    "\n",
    "```Lisp\n",
    "> (* 1 2 3)\n",
    "6\n",
    "> (+)\n",
    "0\n",
    "> (+ 2 (/ 4 8))\n",
    "2.5\n",
    "> (+ 2 2) (* 3 3)\n",
    "4\n",
    "9\n",
    "> (+ 1\n",
    "     (- 23)\n",
    "     (* 4 2.5))\n",
    "-12\n",
    "```"
   ]
  },
  {
   "cell_type": "markdown",
   "metadata": {},
   "source": [
    "This loop implementation has no mechanism for termination or error handling. We can improve the interface by reporting errors to the user. We can also allow the user to exit the loop by signaling a keyboard interrupt (`Control-C`) or end-of-file exception (`Control-D`)."
   ]
  },
  {
   "cell_type": "markdown",
   "metadata": {},
   "source": [
    "```python\n",
    "def read_eval_print_loop():\n",
    "    \"\"\"Run a read-eval-print loop for calculator.\"\"\"\n",
    "    while True:\n",
    "        try:\n",
    "            src = buffer_input()\n",
    "            while src.more_on_line:\n",
    "                expression = scheme_read(src)\n",
    "                print(calc_eval(expression))\n",
    "        except (SyntaxError, TypeError, ValueError, ZeroDivisionError) as err:\n",
    "            print(type(err).__name__ + ':', err)\n",
    "        except (KeyboardInterrupt, EOFError):  # <Control>-D, etc.\n",
    "            print('Calculation completed.')\n",
    "            return\n",
    "```"
   ]
  },
  {
   "cell_type": "markdown",
   "metadata": {},
   "source": [
    "Upon importing the `readline` module, users can even recall their previous inputs using the up arrow or `Control-P`. The final result provides an informative error reporting interface."
   ]
  },
  {
   "cell_type": "markdown",
   "metadata": {},
   "source": [
    "```Lisp\n",
    "> )\n",
    "SyntaxError: unexpected token: )\n",
    "> 2.3.4\n",
    "ValueError: invalid numeral: 2.3.4\n",
    "> +\n",
    "TypeError: + is not a number or call expression\n",
    "> (/ 5)\n",
    "TypeError: / requires exactly 2 arguments\n",
    "> (/ 1 0)\n",
    "ZeroDivisionError: division by zero\n",
    "```"
   ]
  },
  {
   "cell_type": "code",
   "execution_count": 24,
   "metadata": {},
   "outputs": [],
   "source": [
    "import string\n",
    "SYMBOL_STARTS = set(string.ascii_lowercase + string.ascii_uppercase + '_')\n",
    "SYMBOL_INNERS = SYMBOL_STARTS | set(string.digits)\n",
    "NUMERAL = set(string.digits + '-.')\n",
    "WHITESPACE = set(' \\t\\n\\r')\n",
    "DELIMITERS = set('(),:')"
   ]
  },
  {
   "cell_type": "code",
   "execution_count": 28,
   "metadata": {},
   "outputs": [
    {
     "data": {
      "text/plain": [
       "{'-', '.', '0', '1', '2', '3', '4', '5', '6', '7', '8', '9'}"
      ]
     },
     "execution_count": 28,
     "metadata": {},
     "output_type": "execute_result"
    }
   ],
   "source": [
    "NUMERAL"
   ]
  },
  {
   "cell_type": "code",
   "execution_count": 29,
   "metadata": {},
   "outputs": [
    {
     "ename": "NameError",
     "evalue": "name 'Number' is not defined",
     "output_type": "error",
     "traceback": [
      "\u001b[0;31m---------------------------------------------------------------------------\u001b[0m",
      "\u001b[0;31mNameError\u001b[0m                                 Traceback (most recent call last)",
      "\u001b[0;32m<ipython-input-29-de537e58b2fa>\u001b[0m in \u001b[0;36m<module>\u001b[0;34m()\u001b[0m\n\u001b[0;32m----> 1\u001b[0;31m \u001b[0mNumber\u001b[0m\u001b[0;34m\u001b[0m\u001b[0m\n\u001b[0m",
      "\u001b[0;31mNameError\u001b[0m: name 'Number' is not defined"
     ]
    }
   ],
   "source": [
    " Number"
   ]
  },
  {
   "cell_type": "code",
   "execution_count": 50,
   "metadata": {},
   "outputs": [
    {
     "ename": "SyntaxError",
     "evalue": "EOL while scanning string literal (<string>, line 1)",
     "output_type": "error",
     "traceback": [
      "Traceback \u001b[0;36m(most recent call last)\u001b[0m:\n",
      "  File \u001b[1;32m\"/Users/lovelyfrog/Library/Python/3.6/lib/python/site-packages/IPython/core/interactiveshell.py\"\u001b[0m, line \u001b[1;32m2963\u001b[0m, in \u001b[1;35mrun_code\u001b[0m\n    exec(code_obj, self.user_global_ns, self.user_ns)\n",
      "\u001b[0;36m  File \u001b[0;32m\"<ipython-input-50-e8fd1ebc56e3>\"\u001b[0;36m, line \u001b[0;32m5\u001b[0;36m, in \u001b[0;35m<module>\u001b[0;36m\u001b[0m\n\u001b[0;31m    exec(quine)\u001b[0m\n",
      "\u001b[0;36m  File \u001b[0;32m\"<string>\"\u001b[0;36m, line \u001b[0;32m1\u001b[0m\n\u001b[0;31m    print('c=2\u001b[0m\n\u001b[0m              ^\u001b[0m\n\u001b[0;31mSyntaxError\u001b[0m\u001b[0;31m:\u001b[0m EOL while scanning string literal\n"
     ]
    }
   ],
   "source": [
    "import contextlib, io\n",
    "quine = \"print('c=2')\"\n",
    "f = io.StringIO()\n",
    "with contextlib.redirect_stdout(f):\n",
    "    exec(quine)\n",
    "f.getvalue()"
   ]
  },
  {
   "cell_type": "code",
   "execution_count": 51,
   "metadata": {},
   "outputs": [
    {
     "data": {
      "text/plain": [
       "\"'abs'\""
      ]
     },
     "execution_count": 51,
     "metadata": {},
     "output_type": "execute_result"
    }
   ],
   "source": [
    "repr('abs')"
   ]
  },
  {
   "cell_type": "code",
   "execution_count": 52,
   "metadata": {},
   "outputs": [],
   "source": [
    "d = {'a': 1}"
   ]
  },
  {
   "cell_type": "code",
   "execution_count": 53,
   "metadata": {},
   "outputs": [
    {
     "data": {
      "text/plain": [
       "True"
      ]
     },
     "execution_count": 53,
     "metadata": {},
     "output_type": "execute_result"
    }
   ],
   "source": [
    "'a' in d"
   ]
  },
  {
   "cell_type": "code",
   "execution_count": 54,
   "metadata": {},
   "outputs": [
    {
     "data": {
      "text/plain": [
       "True"
      ]
     },
     "execution_count": 54,
     "metadata": {},
     "output_type": "execute_result"
    }
   ],
   "source": [
    "'b' not in d"
   ]
  },
  {
   "cell_type": "code",
   "execution_count": null,
   "metadata": {},
   "outputs": [],
   "source": []
  }
 ],
 "metadata": {
  "kernelspec": {
   "display_name": "Python 3",
   "language": "python",
   "name": "python3"
  },
  "language_info": {
   "codemirror_mode": {
    "name": "ipython",
    "version": 3
   },
   "file_extension": ".py",
   "mimetype": "text/x-python",
   "name": "python",
   "nbconvert_exporter": "python",
   "pygments_lexer": "ipython3",
   "version": "3.6.5"
  }
 },
 "nbformat": 4,
 "nbformat_minor": 2
}
