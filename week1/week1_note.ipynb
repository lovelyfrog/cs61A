{
 "cells": [
  {
   "cell_type": "code",
   "execution_count": 13,
   "metadata": {},
   "outputs": [],
   "source": [
    "words = set(open('/usr/share/dict/words').read().split())"
   ]
  },
  {
   "cell_type": "code",
   "execution_count": 2,
   "metadata": {},
   "outputs": [],
   "source": [
    "import math"
   ]
  },
  {
   "cell_type": "code",
   "execution_count": 5,
   "metadata": {},
   "outputs": [
    {
     "data": {
      "text/plain": [
       "18235299.601596523"
      ]
     },
     "execution_count": 5,
     "metadata": {},
     "output_type": "execute_result"
    }
   ],
   "source": [
    "math.log(1000,2) * 1.44 * 1270688"
   ]
  },
  {
   "cell_type": "code",
   "execution_count": 8,
   "metadata": {},
   "outputs": [
    {
     "data": {
      "text/plain": [
       "3.0958793845391784e-05"
      ]
     },
     "execution_count": 8,
     "metadata": {},
     "output_type": "execute_result"
    }
   ],
   "source": [
    "(16)/ 516816"
   ]
  },
  {
   "cell_type": "code",
   "execution_count": 3,
   "metadata": {},
   "outputs": [
    {
     "data": {
      "text/plain": [
       "{'amiced',\n",
       " 'amunam',\n",
       " 'animal',\n",
       " 'darter',\n",
       " 'decima',\n",
       " 'degged',\n",
       " 'dibrom',\n",
       " 'drawer',\n",
       " 'gangan',\n",
       " 'gelder',\n",
       " 'golfer',\n",
       " 'hallah',\n",
       " 'hallan',\n",
       " 'kakkak',\n",
       " 'lamina',\n",
       " 'looter',\n",
       " 'manuma',\n",
       " 'mooder',\n",
       " 'morbid',\n",
       " 'nagnag',\n",
       " 'nallah',\n",
       " 'nedder',\n",
       " 'recart',\n",
       " 'redart',\n",
       " 'redden',\n",
       " 'redder',\n",
       " 'redleg',\n",
       " 'redoom',\n",
       " 'redraw',\n",
       " 'reflog',\n",
       " 'reflow',\n",
       " 'reiter',\n",
       " 'reknit',\n",
       " 'remeet',\n",
       " 'rennet',\n",
       " 'report',\n",
       " 'retier',\n",
       " 'retool',\n",
       " 'retrad',\n",
       " 'retter',\n",
       " 'reward',\n",
       " 'sinnet',\n",
       " 'tebbet',\n",
       " 'teemer',\n",
       " 'tenner',\n",
       " 'tennis',\n",
       " 'terret',\n",
       " 'tinker',\n",
       " 'tracer',\n",
       " 'trader',\n",
       " 'troper',\n",
       " 'warder',\n",
       " 'wolfer'}"
      ]
     },
     "execution_count": 3,
     "metadata": {},
     "output_type": "execute_result"
    }
   ],
   "source": [
    "{w for w in words if w[::-1] in words and len(w) == 6}"
   ]
  },
  {
   "cell_type": "markdown",
   "metadata": {},
   "source": [
    "## Linux code"
   ]
  },
  {
   "cell_type": "markdown",
   "metadata": {},
   "source": [
    "### changing directories"
   ]
  },
  {
   "cell_type": "markdown",
   "metadata": {},
   "source": [
    "    cd .. : to the parent directory  \n",
    "    cd ~ : to the home directory  \n",
    "    cd : typying just cd is a shortcut for typying cd ~   "
   ]
  },
  {
   "cell_type": "markdown",
   "metadata": {},
   "source": [
    "### making new directories"
   ]
  },
  {
   "cell_type": "markdown",
   "metadata": {},
   "source": [
    "    mkdir cs61A: make new directory  \n"
   ]
  },
  {
   "cell_type": "markdown",
   "metadata": {},
   "source": [
    "### extracting zip files"
   ]
  },
  {
   "cell_type": "markdown",
   "metadata": {},
   "source": [
    "    unzip xxx.zip"
   ]
  },
  {
   "cell_type": "markdown",
   "metadata": {},
   "source": [
    "### removing files"
   ]
  },
  {
   "cell_type": "markdown",
   "metadata": {},
   "source": [
    "fisrt we creat a directory:"
   ]
  },
  {
   "cell_type": "markdown",
   "metadata": {},
   "source": [
    "```\n",
    "mkdir tmp\n",
    "```"
   ]
  },
  {
   "cell_type": "markdown",
   "metadata": {},
   "source": [
    "then delete the tmp directory:\n"
   ]
  },
  {
   "cell_type": "markdown",
   "metadata": {},
   "source": [
    "    rm -r tmp\n"
   ]
  },
  {
   "cell_type": "markdown",
   "metadata": {},
   "source": [
    "`rm` will **remove files and directories** from your filesystem, without **-r** `rm` only remove files.However, since we are removing a directory, we need to specify **-r** to recursively remove tmp"
   ]
  },
  {
   "cell_type": "markdown",
   "metadata": {},
   "source": [
    "some commands **require arguments** like mkdir, others **don't require arguments** like ls.In addtion, most commands can be given  **flags**, like the **-r** for `rm`.Flags are ways to specify modified for commands."
   ]
  },
  {
   "cell_type": "markdown",
   "metadata": {},
   "source": [
    "we can also use `rm` command to remove files:\n",
    "```\n",
    "rm unix.txt\n",
    "```"
   ]
  },
  {
   "cell_type": "markdown",
   "metadata": {},
   "source": [
    "**Warning:** Unlike on Windows or MacOS, there is no friendly Recycle Bin from which you can restore deleted files. In Unix, when you `rm` a file, it's gone. You can't undo `rm`, so think twice before using the `rm` command."
   ]
  },
  {
   "cell_type": "markdown",
   "metadata": {},
   "source": [
    "### moving files"
   ]
  },
  {
   "cell_type": "markdown",
   "metadata": {},
   "source": [
    "    mv ~/文档/cs61A/week1/lab00 ~/文档/cs61A/labs"
   ]
  },
  {
   "cell_type": "markdown",
   "metadata": {},
   "source": [
    "### reading files: a quick and easy way"
   ]
  },
  {
   "cell_type": "markdown",
   "metadata": {},
   "source": [
    "`cat` prints the contents of a file to the screen"
   ]
  },
  {
   "cell_type": "markdown",
   "metadata": {},
   "source": [
    "    cat unix.txt"
   ]
  },
  {
   "cell_type": "markdown",
   "metadata": {},
   "source": [
    "### renaming files"
   ]
  },
  {
   "cell_type": "markdown",
   "metadata": {},
   "source": [
    "    mv unix.txt unix_command.txt"
   ]
  },
  {
   "cell_type": "markdown",
   "metadata": {},
   "source": [
    "This can be a little confusing:\n",
    "* `mv` will move the contents of a file/directory into another file/directory\n",
    "* we can move a file into a directory ,or move a directory into a directory, or move a file into a file, which means moving the contents of a file into another file, this can be a same thing as renaming a file "
   ]
  },
  {
   "cell_type": "markdown",
   "metadata": {},
   "source": [
    "**Note**:  \n",
    "Supposing we already have `a.txt` and `b.txt`,if we do `mv` command"
   ]
  },
  {
   "cell_type": "markdown",
   "metadata": {},
   "source": [
    "    mv a.txt b.txt"
   ]
  },
  {
   "cell_type": "markdown",
   "metadata": {},
   "source": [
    "This will overwrite the contents of `b.txt` with the contents of `a.txt`.Unix won't warn you overwriting so you need to be careful when using the `mv` command."
   ]
  },
  {
   "cell_type": "markdown",
   "metadata": {},
   "source": [
    "### copying files"
   ]
  },
  {
   "cell_type": "markdown",
   "metadata": {},
   "source": [
    "    cp unix_command.txt new_file.txt"
   ]
  },
  {
   "cell_type": "markdown",
   "metadata": {},
   "source": [
    "The `cp` command copies the contents of one file into anther file.Using `cat` you will find the two files have the same contents"
   ]
  },
  {
   "cell_type": "markdown",
   "metadata": {},
   "source": [
    "We can copy `unix_command.txt` to another directory:\n",
    "1. change to the parent directory\n",
    "2. use the following command:\n",
    "```\n",
    "cp week1/unix_command.txt .\n",
    "```\n",
    "Don't forget the `.` at the end!"
   ]
  },
  {
   "cell_type": "markdown",
   "metadata": {},
   "source": [
    "![image](1.jpg)"
   ]
  },
  {
   "cell_type": "markdown",
   "metadata": {},
   "source": [
    "The first argument `week1/unix_command.txt` tells the terminal to look in the week1 directory to find unix_command.txt.  "
   ]
  },
  {
   "cell_type": "markdown",
   "metadata": {},
   "source": [
    "The second argument `.` tells the terminal to copy unix_command.txt to directory `.` which represents the current directory.As we know earlier, `..` represents the parent directory."
   ]
  },
  {
   "cell_type": "markdown",
   "metadata": {},
   "source": [
    "### getting help"
   ]
  },
  {
   "cell_type": "markdown",
   "metadata": {},
   "source": [
    "If you ever come across a terminal command with which you are unfamiliar, you can use the `man` command"
   ]
  },
  {
   "cell_type": "markdown",
   "metadata": {},
   "source": [
    "    man ls"
   ]
  },
  {
   "cell_type": "markdown",
   "metadata": {},
   "source": [
    "The `man` command will show the manual pages(reference pages) for another command."
   ]
  },
  {
   "cell_type": "markdown",
   "metadata": {},
   "source": [
    "## Names and Functions"
   ]
  },
  {
   "cell_type": "markdown",
   "metadata": {},
   "source": [
    "![image](2.jpg)"
   ]
  },
  {
   "cell_type": "markdown",
   "metadata": {},
   "source": [
    "![image](3.jpg) "
   ]
  },
  {
   "cell_type": "markdown",
   "metadata": {},
   "source": [
    "![image](4.jpg)"
   ]
  },
  {
   "cell_type": "markdown",
   "metadata": {},
   "source": [
    "For more details you can read [defining new functions](http://composingprograms.com/pages/13-defining-new-functions.html) which is very detailed"
   ]
  },
  {
   "cell_type": "markdown",
   "metadata": {},
   "source": [
    "## designing functions"
   ]
  },
  {
   "cell_type": "markdown",
   "metadata": {},
   "source": [
    "#### What makes a good function?  \n",
    "* Each function should have exactly one job. The job should be identifiable with a short name. Functions that perform multiple jobs in sequence should be divided into multiple functions.\n",
    "* Don't repeat yourself is a central tenet of software engineering. Logic should be implemented once, given a name, and applied multiple times.\n",
    "* Functions should be defined generally. Squaring is not in the Python Library because it is a special case of the `pow` function, which raises numbers to arbitrary powers"
   ]
  },
  {
   "cell_type": "markdown",
   "metadata": {},
   "source": [
    "### documention"
   ]
  },
  {
   "cell_type": "markdown",
   "metadata": {},
   "source": [
    "A function definition will often include documentation describing the function, called a docstring, which must be indented along with the function body. Docstrings are conventionally triple quoted. The first line describes the job of the fucntion in one line. The following lines can describe arguments and clarify the behavior of the function"
   ]
  },
  {
   "cell_type": "code",
   "execution_count": 1,
   "metadata": {},
   "outputs": [],
   "source": [
    "def pressure(v, t, n):\n",
    "    \"\"\"Compute the pressure in pascals of an ideal gas.\n",
    "\n",
    "    Applies the ideal gas law: http://en.wikipedia.org/wiki/Ideal_gas_law\n",
    "\n",
    "    v -- volume of gas, in cubic meters\n",
    "    t -- absolute temperature in degrees kelvin\n",
    "    n -- particles of gas\n",
    "    \"\"\"\n",
    "    k = 1.38e-23  # Boltzmann's constant\n",
    "    return n * k * t / v"
   ]
  },
  {
   "cell_type": "markdown",
   "metadata": {},
   "source": [
    "When you call **help** with the name of the function as an argument, you will see its docstring."
   ]
  },
  {
   "cell_type": "code",
   "execution_count": 2,
   "metadata": {},
   "outputs": [
    {
     "name": "stdout",
     "output_type": "stream",
     "text": [
      "Help on function pressure in module __main__:\n",
      "\n",
      "pressure(v, t, n)\n",
      "    Compute the pressure in pascals of an ideal gas.\n",
      "    \n",
      "    Applies the ideal gas law: http://en.wikipedia.org/wiki/Ideal_gas_law\n",
      "    \n",
      "    v -- volume of gas, in cubic meters\n",
      "    t -- absolute temperature in degrees kelvin\n",
      "    n -- particles of gas\n",
      "\n"
     ]
    }
   ],
   "source": [
    "help(pressure)"
   ]
  },
  {
   "cell_type": "markdown",
   "metadata": {},
   "source": [
    "Remember, code is written only once, but often read many times. As a result, you'd better include docstrings for all but the simplest functions when writing Python programs"
   ]
  }
 ],
 "metadata": {
  "kernelspec": {
   "display_name": "Python 3",
   "language": "python",
   "name": "python3"
  },
  "language_info": {
   "codemirror_mode": {
    "name": "ipython",
    "version": 3
   },
   "file_extension": ".py",
   "mimetype": "text/x-python",
   "name": "python",
   "nbconvert_exporter": "python",
   "pygments_lexer": "ipython3",
   "version": "3.6.5"
  }
 },
 "nbformat": 4,
 "nbformat_minor": 2
}
